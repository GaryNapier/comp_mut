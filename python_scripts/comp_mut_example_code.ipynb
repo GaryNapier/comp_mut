{
 "cells": [
  {
   "cell_type": "code",
   "execution_count": 2,
   "id": "227549db",
   "metadata": {},
   "outputs": [
    {
     "name": "stdout",
     "output_type": "stream",
     "text": [
      "/mnt/storage7/gary/comp_mut\n"
     ]
    },
    {
     "data": {
      "text/plain": [
       "'/mnt/storage7/gary/comp_mut'"
      ]
     },
     "execution_count": 2,
     "metadata": {},
     "output_type": "execute_result"
    }
   ],
   "source": [
    "%cd ~/comp_mut\n",
    "%pwd"
   ]
  },
  {
   "cell_type": "code",
   "execution_count": 3,
   "id": "eight-party",
   "metadata": {},
   "outputs": [],
   "source": [
    "import csv\n",
    "import json\n",
    "import os.path\n",
    "from tqdm import tqdm\n",
    "from collections import defaultdict, Counter\n",
    "import pandas as pd"
   ]
  },
  {
   "cell_type": "code",
   "execution_count": 4,
   "id": "short-leisure",
   "metadata": {
    "code_folding": [
     0
    ]
   },
   "outputs": [],
   "source": [
    "# Files\n",
    "# Change these!\n",
    "# metafile = 'tb_data_18_02_2021.csv'\n",
    "# jsondir = '/Users/jodyphelan//projects/results/'\n",
    "# tbdbfile = 'tbdb_altered.csv'\n",
    "\n",
    "\n",
    "metafile = '../metadata/tb_data_18_02_2021.csv'\n",
    "jsondir = '/mnt/storage7/jody/tb_ena/tbprofiler/freebayes/results/'\n",
    "# tbdbfile = 'tbdb_altered.csv'\n",
    "tbdbfile = \"../tbdb/tbdb.csv\"\n",
    "comp_mutfile = 'compensatory_mutations.csv'"
   ]
  },
  {
   "cell_type": "code",
   "execution_count": 5,
   "id": "inner-innocent",
   "metadata": {
    "code_folding": [
     0
    ],
    "tags": []
   },
   "outputs": [],
   "source": [
    "def resolve_lineages(data):\n",
    "\n",
    "    data = dict(data)\n",
    "    while True:\n",
    "        improved = False\n",
    "        for child in sorted(data,reverse= True,key=lambda x : len(x)):\n",
    "            parent = \".\".join(child.split(\".\")[:-1])\n",
    "            if any([parent == x for x in data]):\n",
    "                data[parent] = data[parent] + data[child] \n",
    "                del data[child]\n",
    "                improved = True\n",
    "                break\n",
    "        if not improved:\n",
    "            break\n",
    "    return data"
   ]
  },
  {
   "cell_type": "code",
   "execution_count": 6,
   "id": "divine-sustainability",
   "metadata": {
    "code_folding": [
     0
    ]
   },
   "outputs": [],
   "source": [
    "def json_file(jsondir, s):\n",
    "    \"\"\" \n",
    "    Given a sample name as input it returns\n",
    "    the full path to the json file\n",
    "    \"\"\"\n",
    "    return f\"{jsondir}/{s}.results.json\""
   ]
  },
  {
   "cell_type": "code",
   "execution_count": 7,
   "id": "11d38104",
   "metadata": {},
   "outputs": [
    {
     "data": {
      "text/plain": [
       "True"
      ]
     },
     "execution_count": 7,
     "metadata": {},
     "output_type": "execute_result"
    }
   ],
   "source": [
    "os.path.isfile(metafile)"
   ]
  },
  {
   "cell_type": "code",
   "execution_count": 8,
   "id": "chinese-saying",
   "metadata": {},
   "outputs": [
    {
     "name": "stderr",
     "output_type": "stream",
     "text": [
      "32735it [00:00, 41572.53it/s]\n"
     ]
    }
   ],
   "source": [
    "# Create a dictionary with the metadata\n",
    "# Sample names as keys\n",
    "meta = {}\n",
    "for row in tqdm(csv.DictReader(open(metafile))):\n",
    "    if os.path.isfile(json_file(jsondir, row['wgs_id'])):\n",
    "        meta[row['wgs_id']] = row"
   ]
  },
  {
   "cell_type": "code",
   "execution_count": 9,
   "id": "scenic-gender",
   "metadata": {},
   "outputs": [
    {
     "name": "stdout",
     "output_type": "stream",
     "text": [
      "32718\n"
     ]
    }
   ],
   "source": [
    "# Create a simple list of samples\n",
    "samples = list(meta.keys())\n",
    "print(len(samples))"
   ]
  },
  {
   "cell_type": "code",
   "execution_count": 10,
   "id": "toxic-outline",
   "metadata": {},
   "outputs": [
    {
     "data": {
      "text/plain": [
       "defaultdict(set,\n",
       "            {'isoniazid': {('ahpC', 'c.-20C>T'),\n",
       "              ('ahpC', 'c.-39C>T'),\n",
       "              ('ahpC', 'c.-44T>A'),\n",
       "              ('ahpC', 'c.-48G>A'),\n",
       "              ('ahpC', 'c.-48G>T'),\n",
       "              ('ahpC', 'c.-49T>G'),\n",
       "              ('ahpC', 'c.-4A>G'),\n",
       "              ('ahpC', 'c.-51G>T'),\n",
       "              ('ahpC', 'c.-52C>T'),\n",
       "              ('ahpC', 'c.-54C>T'),\n",
       "              ('ahpC', 'c.-57C>T'),\n",
       "              ('ahpC', 'c.-5G>A'),\n",
       "              ('ahpC', 'c.-66G>A'),\n",
       "              ('ahpC', 'c.-74G>A'),\n",
       "              ('ahpC', 'c.-81C>T'),\n",
       "              ('ahpC', 'p.Asp33Asn'),\n",
       "              ('ahpC', 'p.Asp73His'),\n",
       "              ('ahpC', 'p.Glu76Lys'),\n",
       "              ('ahpC', 'p.Leu191Arg'),\n",
       "              ('ahpC', 'p.Phe10Ile'),\n",
       "              ('ahpC', 'p.Pro2Ser'),\n",
       "              ('ahpC', 'p.Thr5Ile')}})"
      ]
     },
     "execution_count": 10,
     "metadata": {},
     "output_type": "execute_result"
    }
   ],
   "source": [
    "compensatory_mutations = defaultdict(set)\n",
    "for row in csv.DictReader(open(tbdbfile)):\n",
    "#     if row['Confers'] != 'compensatory': continue\n",
    "    if row['Gene'] != 'ahpC': continue\n",
    "    compensatory_mutations[row['Drug']].add((row['Gene'],row['Mutation']))\n",
    "    \n",
    "compensatory_mutations"
   ]
  },
  {
   "cell_type": "code",
   "execution_count": 11,
   "id": "reverse-livestock",
   "metadata": {},
   "outputs": [],
   "source": [
    "# samples = samples[:1000]"
   ]
  },
  {
   "cell_type": "code",
   "execution_count": 12,
   "id": "searching-midnight",
   "metadata": {},
   "outputs": [
    {
     "name": "stderr",
     "output_type": "stream",
     "text": [
      "100%|██████████| 32718/32718 [00:08<00:00, 3777.36it/s]\n"
     ]
    }
   ],
   "source": [
    "# Load mutation data using ('gene','change') as keys\n",
    "# genes = set(target_df['gene'])\n",
    "genes = ('ahpC', 'katG', 'fabG1')\n",
    "mutation2sample = defaultdict(set)\n",
    "sample2mutation = defaultdict(set)\n",
    "resistance_mutations = defaultdict(set)\n",
    "for s in tqdm(samples):\n",
    "    data = json.load(open(json_file(jsondir, s)))\n",
    "    \n",
    "    if ';' in data['sublin']: continue\n",
    "    \n",
    "    meta[s]['drtype'] = data['drtype']\n",
    "    meta[s]['sublin'] = data['sublin']\n",
    "    \n",
    "    for var in data['dr_variants'] + data['other_variants']:\n",
    "        if var['gene'] not in genes: continue\n",
    "        if var['freq'] < 0.7: continue\n",
    "        if var['type']=='synonymous_variant': continue\n",
    "        key = (var['gene'],var['change'])\n",
    "        mutation2sample[key].add(s)\n",
    "        sample2mutation[s].add(key)\n",
    "        if \"drugs\" in var:\n",
    "            for d in var[\"drugs\"]:\n",
    "                if key in compensatory_mutations[d[\"drug\"]]: continue\n",
    "                resistance_mutations[d[\"drug\"]].add(key)"
   ]
  },
  {
   "cell_type": "code",
   "execution_count": 13,
   "id": "472e0f32",
   "metadata": {},
   "outputs": [
    {
     "data": {
      "text/plain": [
       "1111"
      ]
     },
     "execution_count": 13,
     "metadata": {},
     "output_type": "execute_result"
    }
   ],
   "source": [
    "len(mutation2sample)"
   ]
  },
  {
   "cell_type": "code",
   "execution_count": 14,
   "id": "239fb641",
   "metadata": {},
   "outputs": [
    {
     "data": {
      "text/plain": [
       "19381"
      ]
     },
     "execution_count": 14,
     "metadata": {},
     "output_type": "execute_result"
    }
   ],
   "source": [
    "len(sample2mutation)"
   ]
  },
  {
   "cell_type": "code",
   "execution_count": 15,
   "id": "918da5c4",
   "metadata": {},
   "outputs": [
    {
     "data": {
      "text/plain": [
       "2"
      ]
     },
     "execution_count": 15,
     "metadata": {},
     "output_type": "execute_result"
    }
   ],
   "source": [
    "len(resistance_mutations)"
   ]
  },
  {
   "cell_type": "code",
   "execution_count": 16,
   "id": "offensive-election",
   "metadata": {},
   "outputs": [
    {
     "name": "stderr",
     "output_type": "stream",
     "text": [
      "100%|██████████| 32718/32718 [00:00<00:00, 314210.50it/s]"
     ]
    },
    {
     "name": "stdout",
     "output_type": "stream",
     "text": [
      "Sample, comp. variant\n",
      "ERR2516197 [('ahpC', 'p.Leu191Arg')]\n",
      "Sample, comp. variant\n",
      "ERR2516199 [('ahpC', 'c.-52C>T')]\n",
      "Sample, comp. variant\n",
      "ERR2179658 [('ahpC', 'c.-81C>T')]\n",
      "Sample, comp. variant\n",
      "SAMN03246659 [('ahpC', 'c.-81C>T')]\n",
      "Sample, comp. variant\n",
      "SRR1723651 [('ahpC', 'c.-81C>T')]\n",
      "Sample, comp. variant\n",
      "SRR6824287 [('ahpC', 'c.-81C>T')]\n",
      "Sample, comp. variant\n",
      "SRR8651572 [('ahpC', 'c.-48G>A')]\n",
      "Sample, comp. variant\n",
      "ERR216923 [('ahpC', 'c.-48G>A')]\n",
      "Sample, comp. variant\n",
      "ERR3148230 [('ahpC', 'p.Asp73His')]\n",
      "Sample, comp. variant\n",
      "ERR3148166 [('ahpC', 'p.Asp73His')]\n",
      "Sample, comp. variant\n",
      "ERR3148207 [('ahpC', 'p.Asp73His')]\n",
      "Sample, comp. variant\n",
      "ERR550722 [('ahpC', 'c.-52C>T')]\n",
      "Sample, comp. variant\n",
      "ERR553062 [('ahpC', 'c.-52C>T')]\n",
      "Sample, comp. variant\n",
      "ERR553076 [('ahpC', 'c.-48G>A')]\n",
      "Sample, comp. variant\n",
      "SAMEA2534034 [('ahpC', 'c.-57C>T')]\n",
      "Sample, comp. variant\n",
      "ERR553226 [('ahpC', 'c.-81C>T')]\n",
      "Sample, comp. variant\n",
      "SRR2101249 [('ahpC', 'c.-52C>T')]\n",
      "Sample, comp. variant\n",
      "ERR2446396 [('ahpC', 'p.Asp73His')]\n",
      "Sample, comp. variant\n",
      "ERR3275515 [('ahpC', 'p.Asp73His')]\n",
      "Sample, comp. variant\n",
      "ERR751529 [('ahpC', 'p.Asp73His')]\n",
      "Sample, comp. variant\n",
      "ERR775314 [('ahpC', 'p.Asp73His')]\n",
      "Sample, comp. variant\n",
      "ERR779853 [('ahpC', 'p.Asp73His')]\n",
      "Sample, comp. variant\n",
      "ERR2516515 [('ahpC', 'p.Asp73His')]\n",
      "Sample, comp. variant\n",
      "ERR2515277 [('ahpC', 'p.Asp73His')]\n"
     ]
    },
    {
     "name": "stderr",
     "output_type": "stream",
     "text": [
      "\n"
     ]
    }
   ],
   "source": [
    "drug = 'isoniazid'\n",
    "potential_resistance_mutations = set()\n",
    "for s in tqdm(samples):\n",
    "    comp_var = [var for var in sample2mutation[s] if var in compensatory_mutations[drug]]\n",
    "    res_var = [var for var in sample2mutation[s] if var in resistance_mutations[drug]]\n",
    "    other_vars = [var for var in sample2mutation[s] if var not in compensatory_mutations[drug] and \\\n",
    "                  var not in resistance_mutations[drug]]\n",
    "    # If there is at least one comp variant and there are no resistance variants\n",
    "    if len(comp_var)>0 and len(res_var)==0:\n",
    "        # If there are no 'other' variants print the sample and the comp variants\n",
    "        if len(other_vars)==0:\n",
    "            print(\"Sample, comp. variant\")\n",
    "            print(s,comp_var)\n",
    "        # Store the 'other' vars as potential resistance variants\n",
    "        for var in other_vars:\n",
    "            potential_resistance_mutations.add(var)\n"
   ]
  },
  {
   "cell_type": "code",
   "execution_count": 17,
   "id": "20d93720",
   "metadata": {},
   "outputs": [
    {
     "data": {
      "text/plain": [
       "{('ahpC', 'c.-142G>A'),\n",
       " ('ahpC', 'p.Leu191Pro'),\n",
       " ('fabG1', 'c.-102G>A'),\n",
       " ('fabG1', 'c.-179C>T'),\n",
       " ('fabG1', 'c.-223_-222insGC'),\n",
       " ('katG', 'c.-1T>C'),\n",
       " ('katG', 'c.-634_489del'),\n",
       " ('katG',\n",
       "  'c.1042_1128delNNNNNNNNNNNNNNNNNNNNNNNNNNNNNNNNNNNNNNNNNNNNNNNNNNNNNNNNNNNNNNNNNNNNNNNNNNNNNNNNNNNNNNA'),\n",
       " ('katG', 'c.1120_*453del'),\n",
       " ('katG', 'c.1438_1440delGCG'),\n",
       " ('katG', 'c.2223A>C'),\n",
       " ('katG', 'c.2223A>G'),\n",
       " ('katG', 'c.680_685delTGATCT'),\n",
       " ('katG', 'c.718_*16215del'),\n",
       " ('katG', 'c.984_998delGGACAACAGTTTCCT'),\n",
       " ('katG', 'p.Ala122Val'),\n",
       " ('katG', 'p.Ala162Val'),\n",
       " ('katG', 'p.Ala312Glu'),\n",
       " ('katG', 'p.Ala312Val'),\n",
       " ('katG', 'p.Ala411Asp'),\n",
       " ('katG', 'p.Ala480Gln'),\n",
       " ('katG', 'p.Ala621Asp'),\n",
       " ('katG', 'p.Ala93Thr'),\n",
       " ('katG', 'p.Arg385Pro'),\n",
       " ('katG', 'p.Arg463Leu'),\n",
       " ('katG', 'p.Arg484His'),\n",
       " ('katG', 'p.Arg705Trp'),\n",
       " ('katG', 'p.Arg78Pro'),\n",
       " ('katG', 'p.Asn655Asp'),\n",
       " ('katG', 'p.Asp142Gly'),\n",
       " ('katG', 'p.Asp163Ala'),\n",
       " ('katG', 'p.Asp163Asn'),\n",
       " ('katG', 'p.Asp189Gly'),\n",
       " ('katG', 'p.Asp329Ala'),\n",
       " ('katG', 'p.Asp329Glu'),\n",
       " ('katG', 'p.Asp419Tyr'),\n",
       " ('katG', 'p.Asp440Gly'),\n",
       " ('katG', 'p.Asp612Gly'),\n",
       " ('katG', 'p.Asp663Tyr'),\n",
       " ('katG', 'p.Asp675Tyr'),\n",
       " ('katG', 'p.Asp723Asn'),\n",
       " ('katG', 'p.Asp735Tyr'),\n",
       " ('katG', 'p.Gln295Glu'),\n",
       " ('katG', 'p.Gln525Leu'),\n",
       " ('katG', 'p.Gln88Pro'),\n",
       " ('katG', 'p.Glu233Gly'),\n",
       " ('katG', 'p.Glu342Gly'),\n",
       " ('katG', 'p.Glu588*'),\n",
       " ('katG', 'p.Gly111Asp'),\n",
       " ('katG', 'p.Gly156Asp'),\n",
       " ('katG', 'p.Gly169Ser'),\n",
       " ('katG', 'p.Gly182Arg'),\n",
       " ('katG', 'p.Gly184Asp'),\n",
       " ('katG', 'p.Gly273Arg'),\n",
       " ('katG', 'p.Gly299Ser'),\n",
       " ('katG', 'p.Gly490Asp'),\n",
       " ('katG', 'p.Gly494Ala'),\n",
       " ('katG', 'p.Gly495Cys'),\n",
       " ('katG', 'p.Gly495Ser'),\n",
       " ('katG', 'p.Gly560Arg'),\n",
       " ('katG', 'p.Gly630Arg'),\n",
       " ('katG', 'p.Gly644Asp'),\n",
       " ('katG', 'p.His276Gln'),\n",
       " ('katG', 'p.His400Pro'),\n",
       " ('katG', 'p.His97Pro'),\n",
       " ('katG', 'p.Ile165Thr'),\n",
       " ('katG', 'p.Ile462Ser'),\n",
       " ('katG', 'p.Leu173Arg'),\n",
       " ('katG', 'p.Leu48Arg'),\n",
       " ('katG', 'p.Leu521Pro'),\n",
       " ('katG', 'p.Leu627Pro'),\n",
       " ('katG', 'p.Lys488Glu'),\n",
       " ('katG', 'p.Met257Val'),\n",
       " ('katG', 'p.Phe129Ser'),\n",
       " ('katG', 'p.Phe167Ser'),\n",
       " ('katG', 'p.Phe483Leu'),\n",
       " ('katG', 'p.Pro136Leu'),\n",
       " ('katG', 'p.Pro232Ser'),\n",
       " ('katG', 'p.Pro325Ser'),\n",
       " ('katG', 'p.Pro422Leu'),\n",
       " ('katG', 'p.Pro441Leu'),\n",
       " ('katG', 'p.Thr262Pro'),\n",
       " ('katG', 'p.Thr324Leu'),\n",
       " ('katG', 'p.Thr344Ser'),\n",
       " ('katG', 'p.Thr394Pro'),\n",
       " ('katG', 'p.Thr625Lys'),\n",
       " ('katG', 'p.Thr86Pro'),\n",
       " ('katG', 'p.Trp135*'),\n",
       " ('katG', 'p.Trp149*'),\n",
       " ('katG', 'p.Trp161Cys'),\n",
       " ('katG', 'p.Trp191Gly'),\n",
       " ('katG', 'p.Trp328Arg'),\n",
       " ('katG', 'p.Trp412*'),\n",
       " ('katG', 'p.Trp438*'),\n",
       " ('katG', 'p.Trp438Gly'),\n",
       " ('katG', 'p.Trp505*'),\n",
       " ('katG', 'p.Trp668*'),\n",
       " ('katG', 'p.Trp90Arg'),\n",
       " ('katG', 'p.Tyr413Cys'),\n",
       " ('katG', 'p.Tyr413Ser'),\n",
       " ('katG', 'p.Tyr426*'),\n",
       " ('katG', 'p.Tyr711Asp'),\n",
       " ('katG', 'p.Val442Leu')}"
      ]
     },
     "execution_count": 17,
     "metadata": {},
     "output_type": "execute_result"
    }
   ],
   "source": [
    "potential_resistance_mutations"
   ]
  },
  {
   "cell_type": "code",
   "execution_count": 205,
   "id": "prompt-lindsay",
   "metadata": {},
   "outputs": [],
   "source": [
    "def get_counts(meta,samples,col):\n",
    "    return dict(Counter([meta[s][col] for s in samples]))\n",
    "\n",
    "def get_meta_proportion(meta,samples,column,targets):\n",
    "    tmp = get_counts(meta,samples,column)\n",
    "    target_count = sum([tmp.get(c,0) for c in targets])\n",
    "    return round(target_count/sum(tmp.values()), 3)"
   ]
  },
  {
   "cell_type": "code",
   "execution_count": 279,
   "id": "disciplinary-regression",
   "metadata": {},
   "outputs": [
    {
     "name": "stdout",
     "output_type": "stream",
     "text": [
      "{'var': ('katG', 'p.Gly169Ser'), 'n_samps': 7, 'dst_prop': 0.714, 'dr_prop': 0.0, 'n_lins': 2}\n",
      "Lineage counts:\n",
      "Counter({'lineage2.2.1': 5, 'lineage2.2.2': 2})\n",
      "\n",
      "{'var': ('katG', 'p.Gly182Arg'), 'n_samps': 3, 'dst_prop': 0.333, 'dr_prop': 0.0, 'n_lins': 2}\n",
      "Lineage counts:\n",
      "Counter({'lineage4.6.1.2': 2, 'lineage2.2.1': 1})\n",
      "\n",
      "{'var': ('katG', 'c.2223A>G'), 'n_samps': 3, 'dst_prop': 0.667, 'dr_prop': 0.0, 'n_lins': 3}\n",
      "Lineage counts:\n",
      "Counter({'lineage4.1.2.1.1': 1, 'lineage2.2.1': 1, 'lineage4.3.4.1': 1})\n",
      "\n",
      "{'var': ('katG', 'p.Trp90Arg'), 'n_samps': 3, 'dst_prop': 1.0, 'dr_prop': 0.0, 'n_lins': 3}\n",
      "Lineage counts:\n",
      "Counter({'lineage4.4.2': 1, 'lineage5.1.2': 1, 'lineage2.2.1': 1})\n",
      "\n",
      "{'var': ('katG', 'p.Trp505*'), 'n_samps': 4, 'dst_prop': 0.5, 'dr_prop': 0.0, 'n_lins': 3}\n",
      "Lineage counts:\n",
      "Counter({'lineage3': 2, 'lineage2.2.1': 1, 'lineage4.3.3': 1})\n",
      "\n",
      "{'var': ('katG', 'p.Ala312Glu'), 'n_samps': 4, 'dst_prop': 0.5, 'dr_prop': 0.0, 'n_lins': 1}\n",
      "Lineage counts:\n",
      "Counter({'lineage2.2.1': 4})\n",
      "\n",
      "{'var': ('katG', 'p.Glu233Gly'), 'n_samps': 4, 'dst_prop': 0.75, 'dr_prop': 0.25, 'n_lins': 1}\n",
      "Lineage counts:\n",
      "Counter({'lineage2.2.2': 4})\n",
      "\n",
      "{'var': ('katG', 'p.Arg385Pro'), 'n_samps': 3, 'dst_prop': 0.667, 'dr_prop': 0.0, 'n_lins': 1}\n",
      "Lineage counts:\n",
      "Counter({'lineage4.5': 3})\n",
      "\n",
      "{'var': ('katG', 'p.Gly273Arg'), 'n_samps': 4, 'dst_prop': 0.0, 'dr_prop': 0.0, 'n_lins': 1}\n",
      "Lineage counts:\n",
      "Counter({'lineage4.1.2.1': 4})\n",
      "\n",
      "{'var': ('katG', 'p.Asp189Gly'), 'n_samps': 6, 'dst_prop': 0.333, 'dr_prop': 0.167, 'n_lins': 4}\n",
      "Lineage counts:\n",
      "Counter({'lineage2.2.1': 4, 'lineage4.1.2.1': 1, 'lineage4.5': 1})\n",
      "\n",
      "{'var': ('katG', 'p.Arg463Leu'), 'n_samps': 14141, 'dst_prop': 0.237, 'dr_prop': 0.537, 'n_lins': 62}\n",
      "Lineage counts:\n",
      "Counter({'lineage2.2.1': 7642, 'lineage1.2.1': 840, 'lineage2.2.2': 469, 'lineage1.2.2.2': 329, 'La1.8.1': 225, 'lineage2.1': 132, 'lineage1.2.2.1': 100, 'lineage6.3.1': 66, 'La1.7.1': 44, 'lineage6.2.1': 15, 'lineage6.1.1': 13, 'lineage6.2.2': 11, 'lineage6.2.3': 11, 'lineage6.3.3': 10, 'La1.2.La1.2 BCG': 9, 'lineage6.3.2': 8, 'lineage6.1.2': 4, 'lineage4.2.2.2': 3, 'La1.8.2': 3, 'lineage6.1.3': 2, 'lineage4.6.1.2': 2, 'lineage4.4.1.1': 1, 'lineage4.9': 1})\n",
      "\n",
      "{'var': ('katG', 'p.Trp191Gly'), 'n_samps': 25, 'dst_prop': 0.44, 'dr_prop': 0.08, 'n_lins': 6}\n",
      "Lineage counts:\n",
      "Counter({'lineage2.2.1': 17, 'lineage4.6.1.2': 4, 'lineage4.8': 1, 'lineage4.6.2.2': 1, 'lineage2.2.2': 1, 'lineage1.1.1': 1})\n",
      "\n",
      "{'var': ('ahpC', 'c.-142G>A'), 'n_samps': 3155, 'dst_prop': 0.107, 'dr_prop': 0.723, 'n_lins': 16}\n",
      "Lineage counts:\n",
      "Counter({'lineage1.2.1': 841, 'lineage1.2.2.2': 329, 'lineage1.2.2.1': 100})\n",
      "\n",
      "{'var': ('katG', 'p.Gly299Ser'), 'n_samps': 6, 'dst_prop': 0.833, 'dr_prop': 0.0, 'n_lins': 3}\n",
      "Lineage counts:\n",
      "Counter({'lineage2.2.1': 3, 'lineage2.2.2': 2, 'lineage4': 1})\n",
      "\n",
      "{'var': ('katG', 'c.-1T>C'), 'n_samps': 37, 'dst_prop': 0.135, 'dr_prop': 0.838, 'n_lins': 1}\n",
      "Lineage counts:\n",
      "Counter({'lineage2.2.1': 37})\n",
      "\n",
      "{'var': ('katG', 'p.Asp142Gly'), 'n_samps': 8, 'dst_prop': 0.875, 'dr_prop': 0.375, 'n_lins': 3}\n",
      "Lineage counts:\n",
      "Counter({'lineage2.2.1': 6, 'lineage4.3.2.1': 1, 'lineage1.2.2.2': 1})\n",
      "\n",
      "{'var': ('katG', 'p.Gln88Pro'), 'n_samps': 3, 'dst_prop': 0.667, 'dr_prop': 0.0, 'n_lins': 3}\n",
      "Lineage counts:\n",
      "Counter({'lineage2.2.1': 2, 'lineage3': 1})\n",
      "\n",
      "{'var': ('katG', 'p.Gly495Ser'), 'n_samps': 8, 'dst_prop': 0.125, 'dr_prop': 0.75, 'n_lins': 1}\n",
      "Lineage counts:\n",
      "Counter({'lineage4.3.4.2.1': 8})\n",
      "\n",
      "{'var': ('fabG1', 'c.-223_-222insGC'), 'n_samps': 3, 'dst_prop': 0.667, 'dr_prop': 0.0, 'n_lins': 1}\n",
      "Lineage counts:\n",
      "Counter({'lineage2.2.1': 3})\n",
      "\n",
      "{'var': ('katG', 'p.Trp161Cys'), 'n_samps': 5, 'dst_prop': 0.6, 'dr_prop': 0.0, 'n_lins': 2}\n",
      "Lineage counts:\n",
      "Counter({'lineage4.4.2': 3, 'lineage2.2.1': 2})\n",
      "\n",
      "{'var': ('katG', 'p.Ala162Val'), 'n_samps': 3, 'dst_prop': 0.0, 'dr_prop': 0.333, 'n_lins': 2}\n",
      "Lineage counts:\n",
      "Counter({'lineage2.2.1': 2, 'lineage4.8': 1})\n",
      "\n",
      "{'var': ('katG', 'p.Asp419Tyr'), 'n_samps': 6, 'dst_prop': 0.667, 'dr_prop': 0.0, 'n_lins': 4}\n",
      "Lineage counts:\n",
      "Counter({'lineage2.2.1': 4, 'lineage4.3.2': 1, 'lineage1.2.1.2.1': 1})\n",
      "\n",
      "{'var': ('katG', 'p.Arg484His'), 'n_samps': 5, 'dst_prop': 1.0, 'dr_prop': 0.2, 'n_lins': 3}\n",
      "Lineage counts:\n",
      "Counter({'lineage3': 2, 'lineage4.5': 2, 'lineage4.3.3': 1})\n",
      "\n",
      "{'var': ('katG', 'p.Asn655Asp'), 'n_samps': 5, 'dst_prop': 0.8, 'dr_prop': 0.0, 'n_lins': 2}\n",
      "Lineage counts:\n",
      "Counter({'lineage4.4.2': 3, 'lineage2.2.1': 2})\n",
      "\n",
      "{'var': ('katG', 'p.Asp675Tyr'), 'n_samps': 4, 'dst_prop': 0.75, 'dr_prop': 0.25, 'n_lins': 1}\n",
      "Lineage counts:\n",
      "Counter({'lineage2.2.2': 4})\n",
      "\n",
      "{'var': ('katG', 'p.Tyr413Cys'), 'n_samps': 8, 'dst_prop': 0.75, 'dr_prop': 0.0, 'n_lins': 5}\n",
      "Lineage counts:\n",
      "Counter({'lineage2.2.1': 5, 'lineage4.6.1.2': 1, 'lineage4.1.1': 1, 'lineage4.1.2.1': 1})\n",
      "\n",
      "{'var': ('fabG1', 'c.-102G>A'), 'n_samps': 170, 'dst_prop': 0.024, 'dr_prop': 0.665, 'n_lins': 10}\n",
      "Lineage counts:\n",
      "Counter({'lineage5': 169, 'lineage1.1.2': 1})\n",
      "\n",
      "{'var': ('katG', 'p.Pro232Ser'), 'n_samps': 7, 'dst_prop': 0.714, 'dr_prop': 0.0, 'n_lins': 4}\n",
      "Lineage counts:\n",
      "Counter({'lineage2.2.1': 3, 'lineage2.2.2': 2, 'lineage5.1': 1, 'lineage4.1.2.1': 1})\n",
      "\n",
      "{'var': ('ahpC', 'p.Leu191Pro'), 'n_samps': 3, 'dst_prop': 1.0, 'dr_prop': 0.0, 'n_lins': 2}\n",
      "Lineage counts:\n",
      "Counter({'lineage2.2.1': 3})\n",
      "\n",
      "{'var': ('katG', 'c.984_998delGGACAACAGTTTCCT'), 'n_samps': 3, 'dst_prop': 0.667, 'dr_prop': 0.0, 'n_lins': 1}\n",
      "Lineage counts:\n",
      "Counter({'lineage4.5': 3})\n",
      "\n",
      "{'var': ('katG', 'p.Arg78Pro'), 'n_samps': 4, 'dst_prop': 0.25, 'dr_prop': 0.25, 'n_lins': 2}\n",
      "Lineage counts:\n",
      "Counter({'lineage4.8': 2, 'lineage2.2.1': 2})\n",
      "\n",
      "{'var': ('fabG1', 'c.-179C>T'), 'n_samps': 3, 'dst_prop': 0.667, 'dr_prop': 0.333, 'n_lins': 1}\n",
      "Lineage counts:\n",
      "Counter({'lineage2.2.1': 3})\n",
      "\n"
     ]
    }
   ],
   "source": [
    "# Get stats for each variant\n",
    "# tmp = set()\n",
    "for var in potential_resistance_mutations: \n",
    "    # Get number of samples per potential resitance mutations\n",
    "    samps = mutation2sample[var]\n",
    "\n",
    "    if len(samps)<3: continue\n",
    "#     tmp.add(var)\n",
    "    resistant_dst_proportion = get_meta_proportion(meta,samps,drug,['1'])\n",
    "    sensitive_geno_proportion = get_meta_proportion(meta,samps,'drtype',['Sensitive'])\n",
    "    num_lins = len(set(get_counts(meta,samps,'sublin')))\n",
    "    stats_dict = {'var': var, \n",
    "                  'n_samps' : len(samps), \n",
    "                  'dst_prop': resistant_dst_proportion, \n",
    "                  'dr_prop': sensitive_geno_proportion, \n",
    "                  'n_lins': num_lins}\n",
    "#     print(var,len(samps),resistant_dst_proportion,sensitive_geno_proportion,num_lins)\n",
    "    print(stats_dict)\n",
    "    print('Lineage counts:')\n",
    "    print(Counter(resolve_lineages(get_counts(meta,samps,'sublin'))))\n",
    "    print()"
   ]
  }
 ],
 "metadata": {
  "kernelspec": {
   "display_name": "Python 3",
   "language": "python",
   "name": "python3"
  },
  "language_info": {
   "codemirror_mode": {
    "name": "ipython",
    "version": 3
   },
   "file_extension": ".py",
   "mimetype": "text/x-python",
   "name": "python",
   "nbconvert_exporter": "python",
   "pygments_lexer": "ipython3",
   "version": "3.8.5"
  }
 },
 "nbformat": 4,
 "nbformat_minor": 5
}
