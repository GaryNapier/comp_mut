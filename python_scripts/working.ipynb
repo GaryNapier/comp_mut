{
 "cells": [
  {
   "cell_type": "code",
   "execution_count": 1,
   "id": "11abf9e7",
   "metadata": {},
   "outputs": [
    {
     "name": "stdout",
     "output_type": "stream",
     "text": [
      "/mnt/storage7/gary/comp_mut\n"
     ]
    }
   ],
   "source": [
    "%cd ~/comp_mut"
   ]
  },
  {
   "cell_type": "code",
   "execution_count": 2,
   "id": "af17c95a",
   "metadata": {},
   "outputs": [],
   "source": [
    "%reset -f"
   ]
  },
  {
   "cell_type": "code",
   "execution_count": 3,
   "id": "39ea903d",
   "metadata": {},
   "outputs": [],
   "source": [
    "import json\n",
    "from collections import defaultdict, Counter\n",
    "import argparse\n",
    "import os\n",
    "from tqdm import tqdm\n",
    "import sys\n",
    "import csv\n",
    "import pathogenprofiler as pp\n",
    "import tbprofiler\n",
    "from csv import DictReader\n",
    "from collections import Counter\n",
    "import requests\n",
    "from contextlib import closing\n",
    "import re\n",
    "from python_scripts.utils import *"
   ]
  },
  {
   "cell_type": "code",
   "execution_count": null,
   "id": "483f7dbc",
   "metadata": {
    "code_folding": [
     1,
     25,
     28,
     33
    ]
   },
   "outputs": [],
   "source": [
    "\n",
    "def get_vars_exclude(vars_exclude_file, drug_of_interest, genes):\n",
    "\n",
    "    # URL below is the results of all Fst = 1 variants from https://genomemedicine.biomedcentral.com/articles/10.1186/s13073-020-00817-3\n",
    "    fst_results_url = 'https://raw.githubusercontent.com/GaryNapier/tb-lineages/main/fst_results_clean_fst_1_for_paper.csv'\n",
    "    # See https://www.codegrepper.com/code-examples/python/how+to+read+a+csv+file+from+a+url+with+python for pulling data from url\n",
    "    with closing(requests.get(fst_results_url, stream=True)) as r:\n",
    "        f = (line.decode('utf-8') for line in r.iter_lines())\n",
    "        fst_dict = csv_to_dict_multi(f)\n",
    "    \n",
    "    lin_specific_variants = []\n",
    "    for gene in fst_dict:\n",
    "        if gene in genes:\n",
    "            for var in fst_dict[gene]:\n",
    "                lin_specific_variants.append( tuple( [ gene, reformat_mutations(var['aa_pos']) ] ) )\n",
    "\n",
    "    # Read in variants to be excluded\n",
    "    vars_exclude = []\n",
    "    for l in open(vars_exclude_file):\n",
    "        vars_exclude.append(tuple(l.strip().split(',')))\n",
    "\n",
    "    # Concat\n",
    "    vars_exclude = vars_exclude + lin_specific_variants \n",
    "    return vars_exclude\n",
    "\n",
    "def get_counts(meta,samples,col):\n",
    "    return dict(Counter([meta[s][col] for s in samples]))\n",
    "\n",
    "def get_meta_proportion(meta,samples,column,targets):\n",
    "    tmp = get_counts(meta,samples,column)\n",
    "    target_count = sum([tmp.get(c,0) for c in targets])\n",
    "    return round(target_count/sum(tmp.values()), 3)\n",
    "\n",
    "def filter_vars(variants, mutation2sample, meta_dict, drug_of_interest):\n",
    "\n",
    "    # Get stats for each variant\n",
    "    stats_dict = defaultdict(dict)\n",
    "    variants_passed = set()\n",
    "    # for var in variants:\n",
    "    for var in variants:\n",
    "\n",
    "        # Get proportion or number of samples (in the case of lineage) per potential mutation\n",
    "        samps = mutation2sample[var]\n",
    "\n",
    "        if len(samps)<3: continue\n",
    "\n",
    "        dst_proportion = get_meta_proportion(meta_dict,samps,drug_of_interest,['1'])\n",
    "        sensitive_geno_proportion = get_meta_proportion(meta_dict,samps,'drtype',['Sensitive'])\n",
    "        num_lins = len(set(resolve_lineages(get_counts(meta_dict,samps,'sublin'))))\n",
    "\n",
    "        # Filter and add to dict\n",
    "        if dst_proportion >= 0.5 and sensitive_geno_proportion <= 0.5 and num_lins > 1:\n",
    "            variants_passed.add(var)\n",
    "            stats_dict[var] = {'var': var, \n",
    "                               'gene': var[0], \n",
    "                               'mutation': var[1],\n",
    "                               'n_samps' : len(samps), \n",
    "                               'dst_prop': dst_proportion, \n",
    "                               'dr_prop': sensitive_geno_proportion, \n",
    "                               'n_lins': num_lins}\n",
    "\n",
    "    return (variants_passed, stats_dict)\n"
   ]
  },
  {
   "cell_type": "code",
   "execution_count": 9,
   "id": "1668645e",
   "metadata": {},
   "outputs": [],
   "source": [
    "drug_of_interest = 'isoniazid'"
   ]
  },
  {
   "cell_type": "code",
   "execution_count": 4,
   "id": "3429e622",
   "metadata": {
    "code_folding": []
   },
   "outputs": [],
   "source": [
    "# FILES\n",
    "\n",
    "# potential_comp_mut_file = args.potential_comp_mut_file\n",
    "# metadata_file = args.metadata_file\n",
    "# tbdb_file = args.tbdb_file\n",
    "# drtypes_file = args.drtypes_file\n",
    "# known_comp_mut_file = args.known_comp_mut_file\n",
    "# tbprofiler_results_dir = args.tbprofiler_results_dir\n",
    "# vars_exclude_file = args.vars_exclude_file\n",
    "# potential_res_mut_outfile = args.potential_res_mut_outfile\n",
    "\n",
    "# FILES\n",
    "\n",
    "potential_comp_mut_file = \"metadata/ahpc_model_results.csv\"\n",
    "metadata_file = \"../metadata/tb_data_18_02_2021.csv\"\n",
    "tbdb_file = \"../tbdb/tbdb.csv\"\n",
    "drtypes_file = \"../pipeline/db/dr_types.json\"\n",
    "comp_mut_file = '../pipeline/db/compensatory_mutations.csv'\n",
    "tbprofiler_results_dir = '/mnt/storage7/jody/tb_ena/tbprofiler/freebayes/results/'\n",
    "vars_exclude_file = 'metadata/var_exclude_comp_mut.csv'\n",
    "potential_res_mut_outfile = 'results/katg_potential_res_mut_stats.csv'\n"
   ]
  },
  {
   "cell_type": "code",
   "execution_count": null,
   "id": "21994bd5",
   "metadata": {},
   "outputs": [],
   "source": [
    "# VARIABLES\n",
    "\n",
    "# suffix = args.suffix\n",
    "# drug_of_interest = args.drug_of_interest\n",
    "\n",
    "suffix = \".results.json\"\n",
    "drug_of_interest = 'isoniazid'"
   ]
  },
  {
   "cell_type": "code",
   "execution_count": 20,
   "id": "a1fe36c6",
   "metadata": {
    "code_folding": []
   },
   "outputs": [
    {
     "ename": "FileNotFoundError",
     "evalue": "[Errno 2] No such file or directory: 'metadata/ahpc_model_results.csv'",
     "output_type": "error",
     "traceback": [
      "\u001b[0;31m---------------------------------------------------------------------------\u001b[0m",
      "\u001b[0;31mFileNotFoundError\u001b[0m                         Traceback (most recent call last)",
      "\u001b[0;32m<ipython-input-20-06f20cbc050c>\u001b[0m in \u001b[0;36m<module>\u001b[0;34m\u001b[0m\n\u001b[1;32m      2\u001b[0m \u001b[0;34m\u001b[0m\u001b[0m\n\u001b[1;32m      3\u001b[0m \u001b[0;31m# Read in ahpc GLM results file\u001b[0m\u001b[0;34m\u001b[0m\u001b[0;34m\u001b[0m\u001b[0;34m\u001b[0m\u001b[0m\n\u001b[0;32m----> 4\u001b[0;31m \u001b[0;32mwith\u001b[0m \u001b[0mopen\u001b[0m\u001b[0;34m(\u001b[0m\u001b[0mpotential_comp_mut_file\u001b[0m\u001b[0;34m,\u001b[0m \u001b[0;34m'r'\u001b[0m\u001b[0;34m)\u001b[0m \u001b[0;32mas\u001b[0m \u001b[0mf\u001b[0m\u001b[0;34m:\u001b[0m\u001b[0;34m\u001b[0m\u001b[0;34m\u001b[0m\u001b[0m\n\u001b[0m\u001b[1;32m      5\u001b[0m     \u001b[0mpotential_comp_mut_dict\u001b[0m \u001b[0;34m=\u001b[0m \u001b[0mcsv_to_dict\u001b[0m\u001b[0;34m(\u001b[0m\u001b[0mf\u001b[0m\u001b[0;34m)\u001b[0m\u001b[0;34m\u001b[0m\u001b[0;34m\u001b[0m\u001b[0m\n\u001b[1;32m      6\u001b[0m \u001b[0;34m\u001b[0m\u001b[0m\n",
      "\u001b[0;31mFileNotFoundError\u001b[0m: [Errno 2] No such file or directory: 'metadata/ahpc_model_results.csv'"
     ]
    }
   ],
   "source": [
    "# READ IN DATA\n",
    "\n",
    "# Read in ahpc GLM results file\n",
    "with open(potential_comp_mut_file, 'r') as f:\n",
    "    potential_comp_mut_dict = csv_to_dict(f)\n",
    "\n",
    "# Convert to list of tuples\n",
    "potential_comp_mut_list = [(comp_mut_genes, var) for var in list(potential_comp_mut_dict)]\n",
    "\n",
    "# Read in metadata\n",
    "with open(metadata_file) as mf:\n",
    "    meta_dict = csv_to_dict(mf)\n",
    "\n",
    "# Pull samples\n",
    "samples = list(meta_dict.keys())\n",
    "\n",
    "# Read in tbdb file\n",
    "with open(tbdb_file, 'r') as f:\n",
    "    tbdb_dict = csv_to_dict_multi(f, 'Drug')\n",
    "\n",
    "# Read in DR types from json\n",
    "standardise_drtype = json.load(open(drtypes_file))\n",
    "\n",
    "# Get known compensatory mutations of interest\n",
    "compensatory_mutations = defaultdict(set)\n",
    "for row in csv.DictReader(open(known_comp_mut_file)):\n",
    "    if row['Drug'] != drug_of_interest: continue\n",
    "    compensatory_mutations[row['Drug']].add((row['Gene'],row['Mutation']))\n",
    "\n",
    "# Read in variants to exclude\n",
    "vars_exclude = get_vars_exclude(vars_exclude_file)\n"
   ]
  },
  {
   "cell_type": "code",
   "execution_count": null,
   "id": "6c4d0d65",
   "metadata": {},
   "outputs": [],
   "source": [
    "# WRANGLE DATA\n",
    "\n",
    "# Find genes associated with drug of interest\n",
    "# genes = set([l.strip().split()[0] for l in open(genes_file)])\n",
    "genes = set()\n",
    "for var in tbdb_dict[drug_of_interest]:\n",
    "    genes.add(var['Gene'])"
   ]
  },
  {
   "cell_type": "code",
   "execution_count": null,
   "id": "f45591d6",
   "metadata": {},
   "outputs": [],
   "source": [
    "# Read in all the json data for (samples with) drug-of-interest genes only (>0.7 freq) and the metadata for those samples\n",
    "\n",
    "# Load mutation data using ('gene','change') as keys\n",
    "mutation2sample = defaultdict(set)\n",
    "sample2mutation = defaultdict(set)\n",
    "resistance_mutations = defaultdict(set)\n",
    "for s in tqdm(samples):\n",
    "    file = \"%s/%s%s\" % (tbprofiler_results_dir, s, suffix)\n",
    "    if os.path.isfile(file):\n",
    "        data = json.load(open(file))\n",
    "        # Skip mixed samps\n",
    "        if ';' in data['sublin']: continue\n",
    "\n",
    "        meta_dict[s]['drtype'] = data['drtype']\n",
    "        meta_dict[s]['sublin'] = data['sublin']\n",
    "\n",
    "        # MAKE SURE THE FOR LOOP BELOW IS INDENTED IN LINE WITH if os.path.isfile(file):\n",
    "        # Otherwise adds sample s to mutation2sample etc\n",
    "\n",
    "        for var in data['dr_variants'] + data['other_variants']:\n",
    "            if var['gene'] not in genes: continue\n",
    "            if var['freq'] < 0.7: continue\n",
    "            if var['type']=='synonymous_variant': continue\n",
    "            if (var['gene'], var['change']) in vars_exclude: continue\n",
    "            key = (var['gene'],var['change'])\n",
    "            mutation2sample[key].add(s)\n",
    "            sample2mutation[s].add(key)\n",
    "            if \"drugs\" in var:\n",
    "                for d in var[\"drugs\"]:\n",
    "                    if key in compensatory_mutations[d[\"drug\"]]: continue\n",
    "                    resistance_mutations[d[\"drug\"]].add(key)\n",
    "                    "
   ]
  },
  {
   "cell_type": "code",
   "execution_count": null,
   "id": "6e5383f5",
   "metadata": {},
   "outputs": [],
   "source": [
    "# Classify potential compensatory mutations and filter \n",
    "# GLM models (filter_novel_comp_mut.R) is only first step in identifying 'interesting' compensatory mutations\n",
    "# Need to check against tbprofiler results for each mutation \n",
    "# e.g. if the mutation is lineage specific, then filter out\n",
    "\n",
    "potential_comp_mut_filtered, potential_comp_mut_stats = filter_vars(potential_comp_mut_list, mutation2sample, meta_dict, drug_of_interest)\n"
   ]
  },
  {
   "cell_type": "code",
   "execution_count": null,
   "id": "f23c271e",
   "metadata": {},
   "outputs": [],
   "source": [
    "# Add the filtered potential compensatory mutations \n",
    "# to the list of known compensatory mutations for the drug of interest\n",
    "\n",
    "compensatory_mutations[drug_of_interest].update(potential_comp_mut_filtered)"
   ]
  },
  {
   "cell_type": "code",
   "execution_count": null,
   "id": "54a0c230",
   "metadata": {},
   "outputs": [],
   "source": [
    "potential_resistance_mutations = set()\n",
    "for s in tqdm(samples):\n",
    "    # Get the comp, res and other variants for each sample in the full sample list\n",
    "    comp_var = [var for var in sample2mutation[s] if var in compensatory_mutations[drug_of_interest]]\n",
    "    res_var = [var for var in sample2mutation[s] if var in resistance_mutations[drug_of_interest]]\n",
    "    other_vars = [var for var in sample2mutation[s] if var not in compensatory_mutations[drug_of_interest] and var not in resistance_mutations[drug_of_interest]]\n",
    "    # If there is at least one comp variant and there are no (known) resistance variants\n",
    "    if len(comp_var)>0 and len(res_var)==0:\n",
    "        # If there are no 'other' variants print the sample and the comp variants\n",
    "        if len(other_vars)==0:\n",
    "            print(\"Sample, comp. variant\")\n",
    "            print(s,comp_var)\n",
    "        # Store the 'other' vars as potential resistance variants\n",
    "        for var in other_vars:\n",
    "            potential_resistance_mutations.add(var)\n"
   ]
  },
  {
   "cell_type": "code",
   "execution_count": null,
   "id": "015ebc9e",
   "metadata": {},
   "outputs": [],
   "source": [
    "    # Filter the potential resistance variants in the same way as filtering the potential comp. variants\n",
    "    potential_res_mut_filtered, potential_res_mut_stats = filter_vars(potential_resistance_mutations, mutation2sample, meta_dict, drug_of_interest)"
   ]
  },
  {
   "cell_type": "code",
   "execution_count": null,
   "id": "7e29c259",
   "metadata": {},
   "outputs": [],
   "source": [
    "# Write stats dictionary to file:\n",
    "with open(potential_res_mut_outfile, 'w') as f:\n",
    "    writer = csv.DictWriter(f, fieldnames = list(get_embedded_keys(potential_res_mut_stats)))\n",
    "    writer.writeheader()\n",
    "    for row in potential_res_mut_stats:\n",
    "        writer.writerow(potential_res_mut_stats[row])"
   ]
  },
  {
   "cell_type": "code",
   "execution_count": null,
   "id": "e04b3628",
   "metadata": {},
   "outputs": [],
   "source": [
    "\n",
    "# Take out comp-mut-genes - should be able to get those from other input files\n",
    "# What are the consequences of all INH genes? - {'ahpC', 'fabG1', 'inhA', 'kasA', 'katG'}"
   ]
  },
  {
   "cell_type": "code",
   "execution_count": null,
   "id": "93f2d847",
   "metadata": {},
   "outputs": [],
   "source": []
  },
  {
   "cell_type": "code",
   "execution_count": null,
   "id": "a787ec35",
   "metadata": {},
   "outputs": [],
   "source": []
  }
 ],
 "metadata": {
  "kernelspec": {
   "display_name": "Python 3",
   "language": "python",
   "name": "python3"
  },
  "language_info": {
   "codemirror_mode": {
    "name": "ipython",
    "version": 3
   },
   "file_extension": ".py",
   "mimetype": "text/x-python",
   "name": "python",
   "nbconvert_exporter": "python",
   "pygments_lexer": "ipython3",
   "version": "3.8.5"
  }
 },
 "nbformat": 4,
 "nbformat_minor": 5
}
