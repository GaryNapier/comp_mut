{
 "cells": [
  {
   "cell_type": "code",
   "execution_count": 350,
   "id": "11abf9e7",
   "metadata": {},
   "outputs": [
    {
     "name": "stdout",
     "output_type": "stream",
     "text": [
      "/mnt/storage7/gary/comp_mut\n"
     ]
    }
   ],
   "source": [
    "%cd ~/comp_mut"
   ]
  },
  {
   "cell_type": "code",
   "execution_count": 351,
   "id": "39ea903d",
   "metadata": {},
   "outputs": [],
   "source": [
    "import json\n",
    "from collections import defaultdict, Counter\n",
    "import argparse\n",
    "import os\n",
    "from tqdm import tqdm\n",
    "import sys\n",
    "import csv\n",
    "import pathogenprofiler as pp\n",
    "import tbprofiler\n",
    "from csv import DictReader\n",
    "from collections import Counter\n",
    "import requests\n",
    "from contextlib import closing\n",
    "import re\n",
    "from python_scripts.utils import *"
   ]
  },
  {
   "cell_type": "code",
   "execution_count": 352,
   "id": "425401aa",
   "metadata": {
    "code_folding": [
     0
    ]
   },
   "outputs": [],
   "source": [
    "def get_vars_exclude(vars_exclude_file):\n",
    "\n",
    "    # URL below is the results of all Fst = 1 variants from https://genomemedicine.biomedcentral.com/articles/10.1186/s13073-020-00817-3\n",
    "    fst_results_url = 'https://raw.githubusercontent.com/GaryNapier/tb-lineages/main/fst_results_clean_fst_1_for_paper.csv'\n",
    "    # See https://www.codegrepper.com/code-examples/python/how+to+read+a+csv+file+from+a+url+with+python for pulling data from url\n",
    "    with closing(requests.get(fst_results_url, stream=True)) as r:\n",
    "        f = (line.decode('utf-8') for line in r.iter_lines())\n",
    "        fst_dict = csv_to_dict_multi(f)\n",
    "    \n",
    "    lin_specific_variants = []\n",
    "    for gene in fst_dict:\n",
    "        if gene in genes:\n",
    "            for var in fst_dict[gene]:\n",
    "                lin_specific_variants.append( tuple( [ gene, reformat_mutations(var['aa_pos']) ] ) )\n",
    "\n",
    "    # Read in variants to be excluded\n",
    "    vars_exclude = []\n",
    "    for l in open(vars_exclude_file):\n",
    "        vars_exclude.append(tuple(l.strip().split(',')))\n",
    "\n",
    "    # Concat\n",
    "    vars_exclude = vars_exclude + lin_specific_variants \n",
    "    return vars_exclude"
   ]
  },
  {
   "cell_type": "code",
   "execution_count": 353,
   "id": "5ed1df15",
   "metadata": {
    "code_folding": [
     0
    ]
   },
   "outputs": [],
   "source": [
    "def get_counts(in_dict, ref_dict, data_key):\n",
    "    data_dict = {k:[] for k in in_dict.keys()}\n",
    "    for mut in in_dict:\n",
    "        for samp in in_dict[mut]:\n",
    "            data_dict[mut].append(ref_dict[samp][data_key])\n",
    "\n",
    "    data_counts = {k:[] for k in in_dict.keys()}\n",
    "    for mut in data_dict:\n",
    "        data_counts[mut] = dict(Counter(data_dict[mut]))\n",
    "    return data_counts"
   ]
  },
  {
   "cell_type": "code",
   "execution_count": 354,
   "id": "5151641c",
   "metadata": {
    "code_folding": [
     0
    ]
   },
   "outputs": [],
   "source": [
    "def get_unique_mutations(in_dict, gene):\n",
    "    # Pull all mutations from a certain gene and take unique\n",
    "    mutations_set = []\n",
    "    for samp in in_dict:\n",
    "        mut_list = in_dict[samp]['mutations']\n",
    "        mutations_set.append(mut['change'] for mut in mut_list if mut['gene'] == gene)\n",
    "    # Convert to flat list \n",
    "    mutations_set = flat_list(mutations_set)\n",
    "    # Sort\n",
    "    mutations_set.sort()\n",
    "    # Make a table (before converting to a set)\n",
    "    table = Counter(mutations_set)\n",
    "    # Get unique\n",
    "    mutations_set = set(mutations_set)\n",
    "    return (table, mutations_set)"
   ]
  },
  {
   "cell_type": "code",
   "execution_count": 355,
   "id": "e712bf67",
   "metadata": {
    "code_folding": [
     0
    ]
   },
   "outputs": [],
   "source": [
    "def dr_filter(in_dict):\n",
    "\n",
    "    # Test the proportion of sensitive DR types to all other DR types\n",
    "    # If the majority are sensitive, then 'reject' (0) or 'accept' (1) \n",
    "    # Take a dictionary of DR type counts like this:\n",
    "    # {'MDR': 15, 'Pre-MDR': 20, 'Pre-XDR': 8, 'XDR': 1, 'Other': 1}\n",
    "    # If only 'Sensitive' in the dict the return accept = 0 \n",
    "    # If 'Sensitive' is not in the counts then accept = 1\n",
    "    # Else test the proportions\n",
    "\n",
    "    is_dict(in_dict)\n",
    "\n",
    "    if all('Sensitive' in x for x in in_dict):\n",
    "        accept = 0\n",
    "        return accept\n",
    "\n",
    "    if 'Sensitive' not in in_dict:\n",
    "        accept = 1\n",
    "        return accept\n",
    "\n",
    "    sum_non_sens = sum(in_dict[item] for item in in_dict if item != 'Sensitive')\n",
    "\n",
    "    proportion = in_dict['Sensitive'] / (in_dict['Sensitive'] + sum_non_sens)\n",
    "\n",
    "    if proportion >= 0.5: \n",
    "        accept = 0 \n",
    "    else:\n",
    "        accept = 1\n",
    "\n",
    "    return accept"
   ]
  },
  {
   "cell_type": "code",
   "execution_count": 356,
   "id": "1f9a1fad",
   "metadata": {
    "code_folding": [
     0
    ]
   },
   "outputs": [],
   "source": [
    "def lin_filter(in_dict):\n",
    "    is_dict(in_dict)\n",
    "    lin_filter_dict = {}\n",
    "    for mutation in in_dict:\n",
    "        if len(in_dict[mutation]) > 1:\n",
    "            lin_filter_dict[mutation] = 1\n",
    "        else:\n",
    "            lin_filter_dict[mutation] = 0\n",
    "    return lin_filter_dict"
   ]
  },
  {
   "cell_type": "code",
   "execution_count": 357,
   "id": "1e50d8a5",
   "metadata": {
    "code_folding": [
     0
    ]
   },
   "outputs": [],
   "source": [
    "def dst_filter(in_dict):\n",
    "\n",
    "    if all(x == 'NA' for x in in_dict.keys()):\n",
    "        accept = 1\n",
    "        return accept\n",
    "\n",
    "    if all(x == '1' for x in in_dict.keys()):\n",
    "        accept = 1\n",
    "        return accept\n",
    "\n",
    "    if all(x == '0' for x in in_dict.keys()):\n",
    "        accept = 0\n",
    "        return accept\n",
    "\n",
    "    # Avoid key errors - add keys if not there and only have combination of '0' & 'NA' or '1' & 'NA'\n",
    "    if '0' not in in_dict.keys() and 'NA' in in_dict.keys():\n",
    "        in_dict['0'] = 0\n",
    "\n",
    "    if '1' not in in_dict.keys() and 'NA' in in_dict.keys():\n",
    "        in_dict['1'] = 0\n",
    "\n",
    "    is_dict(in_dict)\n",
    "    proportion = in_dict['1'] / (in_dict['0'] + in_dict['1'])\n",
    "\n",
    "    if proportion < 0.5:\n",
    "        accept = 0\n",
    "    else:\n",
    "        accept = 1\n",
    "\n",
    "    return accept"
   ]
  },
  {
   "cell_type": "code",
   "execution_count": 358,
   "id": "ac793100",
   "metadata": {
    "code_folding": [
     0
    ]
   },
   "outputs": [],
   "source": [
    "def invert_tb_dict(in_dict):\n",
    "    inv_dict = {}\n",
    "    for samp in in_dict:\n",
    "        for var in in_dict[samp]['mutations']:\n",
    "            if var['change'] not in inv_dict:\n",
    "                inv_dict[var['change']] = [samp]\n",
    "            else:\n",
    "                inv_dict[var['change']].append(samp)\n",
    "    return inv_dict"
   ]
  },
  {
   "cell_type": "code",
   "execution_count": 359,
   "id": "8bdd5451",
   "metadata": {
    "code_folding": [
     0
    ]
   },
   "outputs": [],
   "source": [
    "def tb_data(filename, suffix, samps_list, genes, vars_exclude):\n",
    "    # Read in all the json data for samples with given genes only (>0.7 freq), non-syn\n",
    "    all_data = defaultdict(list)\n",
    "    meta_dict = defaultdict(dict)\n",
    "\n",
    "    for samp in tqdm(samps_list):\n",
    "        # Load file for each samp\n",
    "        file = \"%s/%s%s\" % (filename, samp, suffix)\n",
    "        if os.path.isfile(file):\n",
    "            # Open the json file for the sample, skip if can't find\n",
    "            tmp_data = json.load(open(file))\n",
    "            # Remove mixed samps\n",
    "            if \";\" in tmp_data['sublin']: continue\n",
    "            # Get metadata\n",
    "            meta_dict[samp] = {\n",
    "                'wgs_id':samp,\n",
    "                # 'inh_dst':meta_dict[samp]['isoniazid'],\n",
    "                'main_lin':tmp_data['main_lin'],\n",
    "                'sublin':tmp_data['sublin'],\n",
    "                # 'country_code':meta_dict[samp]['country_code'],\n",
    "                'drtype':standardise_drtype[tmp_data['drtype']]}\n",
    "\n",
    "            # Loop over all variants of interest\n",
    "            for var in tmp_data[\"dr_variants\"] + tmp_data[\"other_variants\"]:\n",
    "                if var['gene'] not in genes: continue\n",
    "                if var['freq'] < 0.7: continue\n",
    "                if var['type'] == 'synonymous_variant': continue\n",
    "                # Store key as tuple of gene and mutation and append the sample. Ignore if in exclude list.\n",
    "                key = (var['gene'], var['change'])\n",
    "                if key in vars_exclude: continue\n",
    "                all_data[key].append(samp)\n",
    "\n",
    "    # Remove single samples\n",
    "    for var in list(all_data):\n",
    "        if len(all_data[var]) < 2:\n",
    "            del all_data[var]\n",
    "\n",
    "    return (all_data, meta_dict)"
   ]
  },
  {
   "cell_type": "code",
   "execution_count": 360,
   "id": "fbb43cca",
   "metadata": {
    "code_folding": [
     0
    ]
   },
   "outputs": [],
   "source": [
    "def merge_metadata(meta_dict, meta_dict_csv, drug_of_interest):\n",
    "    # Merge metadata from metadata csv file and from json data (tb_data() function)\n",
    "    # Need country code and DST for drug of interest\n",
    "\n",
    "    for samp in meta_dict:\n",
    "        meta_dict[samp]['dst'] = meta_dict_csv[samp][drug_of_interest]\n",
    "        meta_dict[samp]['country_code'] = meta_dict_csv[samp]['country_code']\n",
    "    return meta_dict"
   ]
  },
  {
   "cell_type": "code",
   "execution_count": 361,
   "id": "09368d1c",
   "metadata": {
    "code_folding": [
     0
    ]
   },
   "outputs": [],
   "source": [
    "def get_all_counts(all_vars_dict, variant_list, meta_dict):\n",
    "    \n",
    "    # Get number of samples by DR type, lineage and DST for a list of mutations of interest \n",
    "    \n",
    "    # all_vars_dict:\n",
    "    # Dictionary \n",
    "    # Keys = tuple of gene and variant, e.g. \"('ahpC', 'c.-51G>A')\"\n",
    "    # Values = list of samples, e.g. \"['ERR1465765','SAMEA3715554','ERR1193661',...etc]\"\n",
    "    \n",
    "    # variant_list:\n",
    "    # List of tuples of gene-variant pairs, e.g.:\n",
    "    # [('ahpC', 'c.-51G>A'),\n",
    "    # ('ahpC', 'c.-72C>T'),...etc]\n",
    "    \n",
    "    # meta_dict:\n",
    "    # Dictionary of metadata, e.g. \n",
    "    #     {'SAMEA2534433': {'wgs_id': 'SAMEA2534433',\n",
    "    #               'main_lin': 'lineage2',\n",
    "    #               'sublin': 'lineage2.2.1',\n",
    "    #               'drtype': 'Other',\n",
    "    #               'dst': '0',\n",
    "    #               'country_code': 'af'},\n",
    "    \n",
    "    # Return:\n",
    "    # Dict for each variant of interest with keys and gene-variant pairs and values as counts\n",
    "    #     {('ahpC', 'c.-51G>A'): {'MDR-TB': 16,\n",
    "    #    'Pre-MDR-TB': 18,\n",
    "    #    'Pre-XDR-TB': 10,\n",
    "    #    'Other': 1},... etc}\n",
    "    \n",
    "    \n",
    "    # Subset the data to the gene-variants of interest data to just the ahpC unknown\n",
    "    variants_samps = {var: all_vars_dict[var] for var in variant_list}\n",
    "    \n",
    "    # ahpc_drtype_counts = get_counts(unknown_ahpc_samps_dict, ahpc_dict, 'drtype')\n",
    "    drtype_counts = get_counts(variants_samps, meta_dict, 'drtype')\n",
    "    \n",
    "    # Lineage counts - mutation is only from one (or two) lineages\n",
    "    lin_counts = get_counts(variants_samps, meta_dict, 'sublin')\n",
    "    \n",
    "    # Aggregate lin counts\n",
    "    for mut in lin_counts:\n",
    "        lin_counts[mut] = resolve_lineages(lin_counts[mut])\n",
    "        \n",
    "    # DST counts\n",
    "    dst_counts = get_counts(variants_samps, meta_dict, 'dst')\n",
    "    \n",
    "    # Put together\n",
    "    out_dict = {'drtype_counts': drtype_counts, 'lin_counts': lin_counts, 'dst_counts': dst_counts}\n",
    "    \n",
    "    return out_dict"
   ]
  },
  {
   "cell_type": "code",
   "execution_count": 362,
   "id": "e7286b40",
   "metadata": {},
   "outputs": [],
   "source": [
    "def get_counts(meta,samples,col):\n",
    "    return dict(Counter([meta[s][col] for s in samples]))\n",
    "\n",
    "def get_meta_proportion(meta,samples,column,targets):\n",
    "    tmp = get_counts(meta,samples,column)\n",
    "    target_count = sum([tmp.get(c,0) for c in targets])\n",
    "    return round(target_count/sum(tmp.values()), 3)\n",
    "\n"
   ]
  },
  {
   "cell_type": "code",
   "execution_count": 363,
   "id": "fabb98e8",
   "metadata": {},
   "outputs": [],
   "source": [
    "\n",
    "def filter_vars(variants, mutation2sample, meta_dict, drug_of_interest):\n",
    "\n",
    "    # Get stats for each variant\n",
    "    stats_dict = defaultdict(dict)\n",
    "    variants_passed = set()\n",
    "    # for var in variants:\n",
    "    for var in variants:\n",
    "\n",
    "        # Get proportion or number of samples (in the case of lineage) per potential mutation\n",
    "        samps = mutation2sample[var]\n",
    "\n",
    "        if len(samps)<3: continue\n",
    "\n",
    "        dst_proportion = get_meta_proportion(meta_dict,samps,drug_of_interest,['1'])\n",
    "        sensitive_geno_proportion = get_meta_proportion(meta_dict,samps,'drtype',['Sensitive'])\n",
    "        num_lins = len(set(resolve_lineages(get_counts(meta_dict,samps,'sublin'))))\n",
    "        stats_dict[var] = {'n_samps' : len(samps), \n",
    "                           'dst_prop': dst_proportion, \n",
    "                           'dr_prop': sensitive_geno_proportion, \n",
    "                           'n_lins': num_lins}\n",
    "\n",
    "        # Filter\n",
    "        for var in stats_dict:\n",
    "            if stats_dict[var]['dst_prop'] >= 0.5 and \\\n",
    "            stats_dict[var]['dr_prop'] <= 0.5 and \\\n",
    "            stats_dict[var]['n_lins'] > 1:\n",
    "                variants_passed.add(var)\n",
    "\n",
    "    return variants_passed"
   ]
  },
  {
   "cell_type": "code",
   "execution_count": 364,
   "id": "3429e622",
   "metadata": {
    "code_folding": []
   },
   "outputs": [],
   "source": [
    "# FILES\n",
    "\n",
    "# def main(args):\n",
    "\n",
    "# mutations_file = args.mutations_file\n",
    "# metadata_file = args.metadata_file\n",
    "# id_key = args.id_key\n",
    "\n",
    "# mutations_file = \"metadata/novel_ahpc_mutations.txt\"\n",
    "# metadata_file = \"../metadata/tb_data_18_02_2021.csv\"\n",
    "# id_key = \"wgs_id\"\n",
    "# mutaions_key = \"wgs_id\" # column name of mutation names e.g. \"c.-101A>G\"\n",
    "\n",
    "potential_comp_mut_file = \"metadata/ahpc_model_results.csv\"\n",
    "metadata_file = \"../metadata/tb_data_18_02_2021.csv\"\n",
    "tbdb_file = \"../tbdb/tbdb.csv\"\n",
    "drtypes_file = \"../pipeline/db/dr_types.json\"\n",
    "comp_mut_file = '../pipeline/db/compensatory_mutations.csv'\n",
    "# tbprofiler_results_dir = '/mnt/storage7/jody/tb_ena/tbprofiler/freebayes/results/'\n",
    "# tbprofiler_results_dir = '/mnt/storage7/jody/tb_ena/tbprofiler/gatk/results'\n",
    "tbprofiler_results_dir = '/mnt/storage7/jody/tb_ena/tbprofiler/freebayes/results/'\n",
    "vars_exclude_file = 'metadata/var_exclude_katg_comp_mut.csv'\n"
   ]
  },
  {
   "cell_type": "code",
   "execution_count": 365,
   "id": "aacd435d",
   "metadata": {},
   "outputs": [],
   "source": [
    "# VARIABLES\n",
    "\n",
    "# metadata_id_key = \"wgs_id\"\n",
    "suffix = \".results.json\"\n",
    "genes = ('ahpC', 'katG', 'fabG1')\n",
    "drug_of_interest = 'isoniazid'\n",
    "comp_mut_genes = ('ahpC')"
   ]
  },
  {
   "cell_type": "code",
   "execution_count": 366,
   "id": "a1fe36c6",
   "metadata": {
    "code_folding": []
   },
   "outputs": [],
   "source": [
    "# READ IN DATA\n",
    "\n",
    "# Read in ahpc GLM results file\n",
    "with open(potential_comp_mut_file, 'r') as f:\n",
    "    potential_comp_mut_dict = csv_to_dict(f)\n",
    "\n",
    "# Convert to list of tuples\n",
    "potential_comp_mut_list = [(comp_mut_genes, var) for var in list(potential_comp_mut_dict)]\n",
    "\n",
    "# Read in metadata\n",
    "with open(metadata_file) as mf:\n",
    "    meta_dict = csv_to_dict(mf)\n",
    "\n",
    "# Pull samples\n",
    "samples = list(meta_dict_csv.keys())\n",
    "\n",
    "# Read in tbdb file\n",
    "with open(tbdb_file, 'r') as f:\n",
    "    tbdb_dict = csv_to_dict_multi(f)\n",
    "\n",
    "# Read in DR types from json\n",
    "standardise_drtype = json.load(open(drtypes_file))\n",
    "\n",
    "# Get known compensatory mutations of interest\n",
    "compensatory_mutations = defaultdict(set)\n",
    "for row in csv.DictReader(open(comp_mut_file)):\n",
    "    if row['Drug'] != drug_of_interest: continue\n",
    "    compensatory_mutations[row['Drug']].add((row['Gene'],row['Mutation']))\n",
    "    \n",
    "# Read in variants to exclude\n",
    "vars_exclude = get_vars_exclude(vars_exclude_file)\n"
   ]
  },
  {
   "cell_type": "code",
   "execution_count": 367,
   "id": "b9e2e3b9",
   "metadata": {},
   "outputs": [
    {
     "name": "stderr",
     "output_type": "stream",
     "text": [
      "100%|██████████| 32735/32735 [00:09<00:00, 3408.14it/s]\n"
     ]
    }
   ],
   "source": [
    "# Read in all the json data for (samples with) ahpC/katG only (>0.7 freq) and the metadata for those samples\n",
    "# all_data, meta_dict = tb_data(tbprofiler_results_dir, suffix, samples, genes, vars_exclude)\n",
    "\n",
    "# Load mutation data using ('gene','change') as keys\n",
    "mutation2sample = defaultdict(set)\n",
    "sample2mutation = defaultdict(set)\n",
    "resistance_mutations = defaultdict(set)\n",
    "for s in tqdm(samples):\n",
    "    file = \"%s/%s%s\" % (tbprofiler_results_dir, s, suffix)\n",
    "    if os.path.isfile(file):\n",
    "        data = json.load(open(file))\n",
    "        # Skip mixed samps\n",
    "        if ';' in data['sublin']: continue\n",
    "\n",
    "        meta_dict[s]['drtype'] = data['drtype']\n",
    "        meta_dict[s]['sublin'] = data['sublin']\n",
    "    \n",
    "    for var in data['dr_variants'] + data['other_variants']:\n",
    "        if var['gene'] not in genes: continue\n",
    "        if var['freq'] < 0.7: continue\n",
    "        if var['type']=='synonymous_variant': continue\n",
    "        key = (var['gene'],var['change'])\n",
    "        mutation2sample[key].add(s)\n",
    "        sample2mutation[s].add(key)\n",
    "        if \"drugs\" in var:\n",
    "            for d in var[\"drugs\"]:\n",
    "                if key in compensatory_mutations[d[\"drug\"]]: continue\n",
    "                resistance_mutations[d[\"drug\"]].add(key)\n"
   ]
  },
  {
   "cell_type": "code",
   "execution_count": 368,
   "id": "3f7a8a97",
   "metadata": {},
   "outputs": [],
   "source": [
    "# ---------\n",
    "# TESTING\n",
    "# ---------\n",
    "\n",
    "# file = \"%s/%s%s\" % (tbprofiler_results_dir, 'SAMEA2534433', suffix)\n",
    "# data = json.load(open(file))\n",
    "\n",
    "# DR TYPES - how to load?\n"
   ]
  },
  {
   "cell_type": "code",
   "execution_count": 369,
   "id": "1ac04c5e",
   "metadata": {},
   "outputs": [
    {
     "name": "stdout",
     "output_type": "stream",
     "text": [
      "{('ahpC', 'c.-72C>T'), ('ahpC', 'c.-51G>A')}\n",
      "\n",
      "{('ahpC', 'p.Glu76Lys'), ('ahpC', 'p.Thr5Ile'), ('ahpC', 'c.-48G>T'), ('ahpC', 'c.-48G>A'), ('ahpC', 'p.Pro2Ser'), ('ahpC', 'c.-74G>A'), ('ahpC', 'c.-4A>G'), ('ahpC', 'c.-54C>T'), ('ahpC', 'c.-5G>A'), ('ahpC', 'c.-52C>T'), ('ahpC', 'c.-51G>T'), ('ahpC', 'c.-49T>G'), ('ahpC', 'c.-39C>T'), ('ahpC', 'c.-57C>T'), ('ahpC', 'p.Asp33Asn'), ('ahpC', 'c.-66G>A'), ('ahpC', 'c.-44T>A'), ('ahpC', 'c.-20C>T'), ('ahpC', 'p.Leu191Arg'), ('ahpC', 'p.Asp73His'), ('ahpC', 'c.-81C>T'), ('ahpC', 'p.Phe10Ile')}\n"
     ]
    }
   ],
   "source": [
    "# Classify potential compensatory mutations and filter \n",
    "# GLM is only first step in identifying 'interesting' compensatory mutations\n",
    "# Need to check against tbprofiler results for each mutation \n",
    "# e.g. if the mutation is lineage specific, then filter out\n",
    "\n",
    "potential_comp_mut_filtered = filter_vars(potential_comp_mut_list, mutation2sample, meta_dict, drug_of_interest)"
   ]
  },
  {
   "cell_type": "code",
   "execution_count": 370,
   "id": "06c5a7b5",
   "metadata": {},
   "outputs": [
    {
     "name": "stdout",
     "output_type": "stream",
     "text": [
      "{('ahpC', 'p.Glu76Lys'), ('ahpC', 'p.Thr5Ile'), ('ahpC', 'c.-48G>T'), ('ahpC', 'c.-48G>A'), ('ahpC', 'p.Pro2Ser'), ('ahpC', 'c.-74G>A'), ('ahpC', 'c.-4A>G'), ('ahpC', 'c.-54C>T'), ('ahpC', 'c.-5G>A'), ('ahpC', 'c.-52C>T'), ('ahpC', 'c.-51G>T'), ('ahpC', 'c.-49T>G'), ('ahpC', 'c.-72C>T'), ('ahpC', 'c.-39C>T'), ('ahpC', 'c.-57C>T'), ('ahpC', 'p.Asp33Asn'), ('ahpC', 'c.-66G>A'), ('ahpC', 'c.-44T>A'), ('ahpC', 'c.-20C>T'), ('ahpC', 'p.Leu191Arg'), ('ahpC', 'p.Asp73His'), ('ahpC', 'c.-81C>T'), ('ahpC', 'c.-51G>A'), ('ahpC', 'p.Phe10Ile')}\n"
     ]
    }
   ],
   "source": [
    "# Add the filtered potential compensatory mutations \n",
    "# to the list of known compensatory mutations for the drug of interest\n",
    "\n",
    "compensatory_mutations[drug_of_interest].update(potential_comp_mut_filtered)"
   ]
  },
  {
   "cell_type": "code",
   "execution_count": null,
   "id": "95becceb",
   "metadata": {},
   "outputs": [],
   "source": []
  },
  {
   "cell_type": "code",
   "execution_count": 18,
   "id": "36207b42",
   "metadata": {},
   "outputs": [
    {
     "data": {
      "text/plain": [
       "{'drtype_filter': {('ahpC', 'c.-51G>A'): 1,\n",
       "  ('ahpC', 'c.-72C>T'): 1,\n",
       "  ('ahpC', 'c.-76T>A'): 1,\n",
       "  ('ahpC', 'p.Pro44Arg'): 1},\n",
       " 'lin_filter': {('ahpC', 'c.-51G>A'): 1,\n",
       "  ('ahpC', 'c.-72C>T'): 1,\n",
       "  ('ahpC', 'c.-76T>A'): 0,\n",
       "  ('ahpC', 'p.Pro44Arg'): 0},\n",
       " 'dst_filter': {('ahpC', 'c.-51G>A'): 1,\n",
       "  ('ahpC', 'c.-72C>T'): 1,\n",
       "  ('ahpC', 'c.-76T>A'): 1,\n",
       "  ('ahpC', 'p.Pro44Arg'): 1}}"
      ]
     },
     "execution_count": 18,
     "metadata": {},
     "output_type": "execute_result"
    }
   ],
   "source": [
    "\n",
    "# def filter_counts(counts_dict):\n",
    "#     # counts_dict:\n",
    "#     # Output from get_all_counts\n",
    "#     # Dictionary of count type, gene-variant pair and dict of counts:\n",
    "#     #     {'drtype_counts': {('ahpC', 'c.-51G>A'): {'MDR-TB': 16,\n",
    "#     #    'Pre-MDR-TB': 18,\n",
    "#     #    'Pre-XDR-TB': 10,\n",
    "#     #    'Other': 1},...},\n",
    "#     #  'lin_counts': {('ahpC', 'c.-51G>A'): {'lineage2.2.1': 19,\n",
    "#     #    'lineage4.6.1.2': 2,...},\n",
    "#     #  'dst_counts': {('ahpC', 'c.-51G>A'): {'1': 29, 'NA': 15, '0': 1},...}}\n",
    "    \n",
    "        \n",
    "#     # DR type filter\n",
    "#     dr_filter_dict = {}\n",
    "#     for mutation in counts_dict['drtype_counts']:\n",
    "#         dr_filter_dict[mutation] = dr_filter(counts_dict['drtype_counts'][mutation])\n",
    "        \n",
    "#     # Lineage filter\n",
    "#     lin_filter_dict = lin_filter(counts_dict['lin_counts'])\n",
    "\n",
    "#     # DST filter\n",
    "#     dst_filter_dict = {}\n",
    "#     for mutation in counts_dict['dst_counts']:\n",
    "#         dst_filter_dict[mutation] = dst_filter(counts_dict['dst_counts'][mutation])\n",
    "        \n",
    "#     # Put together\n",
    "#     out_dict = {'drtype_filter': dr_filter_dict, 'lin_filter': lin_filter_dict, 'dst_filter': dst_filter_dict}\n",
    "    \n",
    "    \n",
    "    \n",
    "#     return out_dict\n",
    "\n",
    "    \n",
    "    \n",
    "#     # Put together and add up scores\n",
    "#     # Remove from ahpc mutations list if 0 \n",
    "\n",
    "\n"
   ]
  },
  {
   "cell_type": "code",
   "execution_count": null,
   "id": "e2ac373a",
   "metadata": {},
   "outputs": [],
   "source": []
  },
  {
   "cell_type": "code",
   "execution_count": null,
   "id": "b718e3d3",
   "metadata": {},
   "outputs": [],
   "source": []
  },
  {
   "cell_type": "code",
   "execution_count": null,
   "id": "9ea24b60",
   "metadata": {},
   "outputs": [],
   "source": []
  },
  {
   "cell_type": "code",
   "execution_count": null,
   "id": "c41092cb",
   "metadata": {},
   "outputs": [],
   "source": []
  },
  {
   "cell_type": "code",
   "execution_count": null,
   "id": "6c4d0d65",
   "metadata": {},
   "outputs": [],
   "source": []
  },
  {
   "cell_type": "code",
   "execution_count": null,
   "id": "f45591d6",
   "metadata": {},
   "outputs": [],
   "source": []
  }
 ],
 "metadata": {
  "kernelspec": {
   "display_name": "Python 3",
   "language": "python",
   "name": "python3"
  },
  "language_info": {
   "codemirror_mode": {
    "name": "ipython",
    "version": 3
   },
   "file_extension": ".py",
   "mimetype": "text/x-python",
   "name": "python",
   "nbconvert_exporter": "python",
   "pygments_lexer": "ipython3",
   "version": "3.8.5"
  }
 },
 "nbformat": 4,
 "nbformat_minor": 5
}
